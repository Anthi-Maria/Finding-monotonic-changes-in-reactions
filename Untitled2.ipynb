{
 "cells": [
  {
   "cell_type": "code",
   "execution_count": 57,
   "id": "modern-round",
   "metadata": {},
   "outputs": [],
   "source": [
    "import numpy as np\n",
    "import pandas as pd\n",
    "import cobra.test\n",
    "import os\n",
    "\n",
    "from os.path import join\n",
    "\n",
    "from time import time\n",
    "\n",
    "\n",
    "from cobra.flux_analysis import (\n",
    "    single_gene_deletion, single_reaction_deletion, double_gene_deletion,\n",
    "    double_reaction_deletion)\n",
    "\n",
    "a = cobra.io.read_sbml_model(\"iEC1344_C.xml\")"
   ]
  },
  {
   "cell_type": "code",
   "execution_count": 8,
   "id": "rocky-discount",
   "metadata": {},
   "outputs": [
    {
     "data": {
      "text/plain": [
       "True"
      ]
     },
     "execution_count": 8,
     "metadata": {},
     "output_type": "execute_result"
    }
   ],
   "source": [
    "csvFile = pd.read_csv('biomass_per_flux_for_reaction_ALCD19.csv') #this has 2 feasible values the one after the other (the second higher than the first one)\n",
    "i=0\n",
    "l= list()\n",
    "\n",
    "while i < 201:\n",
    "    inf= csvFile.iloc[i,  2]\n",
    "    flt= float(csvFile.iloc[i,  2])\n",
    "    \n",
    "    if csvFile.iloc[i,  2] == flt:\n",
    "        l.append(csvFile.iloc[i,  2])\n",
    "    i= i+1\n",
    "\n",
    "csvFile2= pd.DataFrame (l, columns = ['Biomass'])\n",
    "csvFile2\n",
    "\n",
    "my_series = csvFile2['Biomass'].squeeze()\n",
    "type(my_series)\n",
    "my_series.index= range(2)\n",
    "\n",
    "\n",
    "my_series.is_monotonic"
   ]
  },
  {
   "cell_type": "code",
   "execution_count": 10,
   "id": "northern-butter",
   "metadata": {},
   "outputs": [
    {
     "data": {
      "text/plain": [
       "True"
      ]
     },
     "execution_count": 10,
     "metadata": {},
     "output_type": "execute_result"
    }
   ],
   "source": [
    "csvFile = pd.read_csv('biomass_per_flux_for_reaction_ALAtex.csv') #this increases monotonically and has 3 values in total\n",
    "i=0\n",
    "l= list()\n",
    "\n",
    "while i < 201:\n",
    "    inf= csvFile.iloc[i,  2]\n",
    "    flt= float(csvFile.iloc[i,  2])\n",
    "    \n",
    "    if csvFile.iloc[i,  2] == flt:\n",
    "        l.append(csvFile.iloc[i,  2])\n",
    "    i= i+1\n",
    "\n",
    "csvFile2= pd.DataFrame (l, columns = ['Biomass'])\n",
    "csvFile2\n",
    "\n",
    "my_series = csvFile2['Biomass'].squeeze()\n",
    "type(my_series)\n",
    "my_series.index= range(3)\n",
    "\n",
    "\n",
    "my_series.is_monotonic"
   ]
  },
  {
   "cell_type": "code",
   "execution_count": 11,
   "id": "placed-singing",
   "metadata": {},
   "outputs": [
    {
     "data": {
      "text/plain": [
       "True"
      ]
     },
     "execution_count": 11,
     "metadata": {},
     "output_type": "execute_result"
    }
   ],
   "source": [
    "csvFile = pd.read_csv('biomass_per_flux_for_reaction_EX_isetac_e.csv') #this increases monotonically\n",
    "i=0\n",
    "l= list()\n",
    "\n",
    "while i < 201:\n",
    "    inf= csvFile.iloc[i,  2]\n",
    "    flt= float(csvFile.iloc[i,  2])\n",
    "    \n",
    "    if csvFile.iloc[i,  2] == flt:\n",
    "        l.append(csvFile.iloc[i,  2])\n",
    "    i= i+1\n",
    "\n",
    "csvFile2= pd.DataFrame (l, columns = ['Biomass'])\n",
    "csvFile2\n",
    "\n",
    "my_series = csvFile2['Biomass'].squeeze()\n",
    "type(my_series)\n",
    "\n",
    "\n",
    "my_series.is_monotonic"
   ]
  },
  {
   "cell_type": "code",
   "execution_count": 16,
   "id": "solar-pregnancy",
   "metadata": {},
   "outputs": [
    {
     "data": {
      "text/plain": [
       "True"
      ]
     },
     "execution_count": 16,
     "metadata": {},
     "output_type": "execute_result"
    }
   ],
   "source": [
    "csvFile = pd.read_csv('biomass_per_flux_for_reaction_EX_glu__L_e.csv') #this, as well as ACOAD5f, EX_23camp_e, ALAALAD and ACPPAT140, decrease monotonically\n",
    "i=0\n",
    "l= list()\n",
    "\n",
    "while i < 201:\n",
    "    inf= csvFile.iloc[i,  2]\n",
    "    flt= float(csvFile.iloc[i,  2])\n",
    "    \n",
    "    if csvFile.iloc[i,  2] == flt:\n",
    "        l.append(csvFile.iloc[i,  2])\n",
    "    i= i+1\n",
    "\n",
    "csvFile2= pd.DataFrame (l, columns = ['Biomass'])\n",
    "csvFile2\n",
    "\n",
    "my_series = csvFile2['Biomass'].squeeze()\n",
    "type(my_series)\n",
    "\n",
    "my_series\n",
    "\n",
    "my_series.is_monotonic_decreasing"
   ]
  },
  {
   "cell_type": "code",
   "execution_count": 43,
   "id": "trained-miracle",
   "metadata": {},
   "outputs": [
    {
     "data": {
      "text/plain": [
       "True"
      ]
     },
     "execution_count": 43,
     "metadata": {},
     "output_type": "execute_result"
    }
   ],
   "source": [
    "csvFile = pd.read_csv('biomass_per_flux_for_reaction_ACOAD5f.csv') #this, as well as ACOAD5f, EX_23camp_e and ACPPAT140, decrease monotonically\n",
    "i=0\n",
    "l= list()\n",
    "\n",
    "while i < 201:\n",
    "    inf= csvFile.iloc[i,  2]\n",
    "    flt= float(csvFile.iloc[i,  2])\n",
    "    \n",
    "    if csvFile.iloc[i,  2] == flt:\n",
    "        l.append(csvFile.iloc[i,  2])\n",
    "    i= i+1\n",
    "\n",
    "csvFile2= pd.DataFrame (l, columns = ['Biomass'])\n",
    "csvFile2\n",
    "\n",
    "my_series = csvFile2['Biomass'].squeeze()\n",
    "type(my_series)\n",
    "\n",
    "my_series\n",
    "\n",
    "my_series.is_monotonic_decreasing"
   ]
  },
  {
   "cell_type": "code",
   "execution_count": 64,
   "id": "veterinary-walker",
   "metadata": {},
   "outputs": [
    {
     "data": {
      "text/plain": [
       "True"
      ]
     },
     "execution_count": 64,
     "metadata": {},
     "output_type": "execute_result"
    }
   ],
   "source": [
    "csvFile = pd.read_csv('biomass_per_flux_for_reaction_ACPPAT140.csv') #this, as well as ACOAD5f, EX_23camp_e and ACPPAT140, decrease monotonically\n",
    "i=0\n",
    "l= list()\n",
    "\n",
    "while i < 201:\n",
    "    inf= csvFile.iloc[i,  2]\n",
    "    flt= float(csvFile.iloc[i,  2])\n",
    "    \n",
    "    if csvFile.iloc[i,  2] == flt:\n",
    "        l.append(csvFile.iloc[i,  2])\n",
    "    i= i+1\n",
    "\n",
    "csvFile2= pd.DataFrame (l, columns = ['Biomass'])\n",
    "csvFile2\n",
    "\n",
    "my_series = csvFile2['Biomass'].squeeze()\n",
    "type(my_series)\n",
    "\n",
    "my_series\n",
    "\n",
    "my_series.is_monotonic_decreasing"
   ]
  },
  {
   "cell_type": "code",
   "execution_count": 74,
   "id": "excellent-elevation",
   "metadata": {},
   "outputs": [
    {
     "data": {
      "text/plain": [
       "False"
      ]
     },
     "execution_count": 74,
     "metadata": {},
     "output_type": "execute_result"
    }
   ],
   "source": [
    "csvFile = pd.read_csv('biomass_per_flux_for_reaction_ALAALAD.csv') #this is flat and then decreasing i.e. saturating\n",
    "i=0\n",
    "l= list()\n",
    "\n",
    "while i < 201:\n",
    "    inf= csvFile.iloc[i,  2]\n",
    "    flt= float(csvFile.iloc[i,  2])\n",
    "    \n",
    "    if csvFile.iloc[i,  2] == flt:\n",
    "        l.append(csvFile.iloc[i,  2])\n",
    "    i= i+1\n",
    "\n",
    "csvFile2= pd.DataFrame (l, columns = ['Biomass'])\n",
    "csvFile2\n",
    "\n",
    "my_series = csvFile2['Biomass'].squeeze()\n",
    "type(my_series)\n",
    "\n",
    "my_series\n",
    "\n",
    "my_series.is_monotonic_decreasing"
   ]
  },
  {
   "cell_type": "code",
   "execution_count": 75,
   "id": "dried-front",
   "metadata": {},
   "outputs": [
    {
     "data": {
      "text/plain": [
       "False"
      ]
     },
     "execution_count": 75,
     "metadata": {},
     "output_type": "execute_result"
    }
   ],
   "source": [
    "len(np.unique(csvFile2[\"Biomass\"]))==1"
   ]
  },
  {
   "cell_type": "code",
   "execution_count": 76,
   "id": "opponent-flood",
   "metadata": {},
   "outputs": [
    {
     "data": {
      "text/plain": [
       "array([0.00789676, 0.05058195, 0.09326714, 0.13595233, 0.17863752,\n",
       "       0.22132271, 0.2640079 , 0.30669309, 0.34937828, 0.39206347,\n",
       "       0.43474866, 0.47743385, 0.52011904, 0.56280423, 0.60548942,\n",
       "       0.64817461, 0.6908598 , 0.7335309 , 0.77500847, 0.81648605,\n",
       "       0.85796362, 0.8994412 , 0.94091877, 0.98239635, 1.02387392,\n",
       "       1.06510243, 1.10601284, 1.14692325, 1.18636224, 1.22410241,\n",
       "       1.26184258, 1.29958275, 1.33619962, 1.3688416 , 1.38410873,\n",
       "       1.38410873, 1.38410873, 1.38410873])"
      ]
     },
     "execution_count": 76,
     "metadata": {},
     "output_type": "execute_result"
    }
   ],
   "source": [
    "np.unique(csvFile2[\"Biomass\"])"
   ]
  },
  {
   "cell_type": "code",
   "execution_count": null,
   "id": "limited-relationship",
   "metadata": {},
   "outputs": [],
   "source": []
  }
 ],
 "metadata": {
  "kernelspec": {
   "display_name": "Python 3",
   "language": "python",
   "name": "python3"
  },
  "language_info": {
   "codemirror_mode": {
    "name": "ipython",
    "version": 3
   },
   "file_extension": ".py",
   "mimetype": "text/x-python",
   "name": "python",
   "nbconvert_exporter": "python",
   "pygments_lexer": "ipython3",
   "version": "3.8.3"
  }
 },
 "nbformat": 4,
 "nbformat_minor": 5
}
